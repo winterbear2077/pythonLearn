{
 "cells": [
  {
   "cell_type": "markdown",
   "source": [
    "#### Generator\n",
    "\n",
    "##### 使用列表推导式创建Generator"
   ],
   "metadata": {
    "collapsed": false
   },
   "id": "1bb06e19d659f193"
  },
  {
   "cell_type": "code",
   "execution_count": 25,
   "outputs": [
    {
     "name": "stdout",
     "output_type": "stream",
     "text": [
      "<class 'generator'>\n"
     ]
    }
   ],
   "source": [
    "li = (x*3 for x in range(10))\n",
    "print(type(li))"
   ],
   "metadata": {
    "collapsed": false,
    "ExecuteTime": {
     "end_time": "2023-10-06T15:01:19.943538200Z",
     "start_time": "2023-10-06T15:01:19.880032Z"
    }
   },
   "id": "ac08217780a9c717"
  },
  {
   "cell_type": "markdown",
   "source": [
    "##### 使用函数创建生成器\n",
    "\n",
    "***\n",
    "1. 创建函数，使用 `yield` 关键字\n",
    "2. 调用函数，接收返回的结果\n",
    "3. 返回的结果即为一个生成器\n",
    "4. 调用 `next()` 来使用生成器\n",
    "***"
   ],
   "metadata": {
    "collapsed": false
   },
   "id": "a6ae9b6c43f823e7"
  },
  {
   "cell_type": "code",
   "execution_count": 26,
   "outputs": [
    {
     "name": "stdout",
     "output_type": "stream",
     "text": [
      "<class 'function'>\n",
      "<class 'generator'>\n"
     ]
    }
   ],
   "source": [
    "def gen():\n",
    "    n = 0 \n",
    "    while True:\n",
    "        n += 1\n",
    "        yield n\n",
    "        \n",
    "g = gen()\n",
    "print(type(gen))\n",
    "print(type(g))"
   ],
   "metadata": {
    "collapsed": false,
    "ExecuteTime": {
     "end_time": "2023-10-06T15:01:19.943538200Z",
     "start_time": "2023-10-06T15:01:19.887500900Z"
    }
   },
   "id": "81e04888c64c5d46"
  },
  {
   "cell_type": "code",
   "execution_count": 27,
   "outputs": [
    {
     "name": "stdout",
     "output_type": "stream",
     "text": [
      "1\n"
     ]
    }
   ],
   "source": [
    "print(next(g))"
   ],
   "metadata": {
    "collapsed": false,
    "ExecuteTime": {
     "end_time": "2023-10-06T15:01:19.944589700Z",
     "start_time": "2023-10-06T15:01:19.896061400Z"
    }
   },
   "id": "716b5417734e4d16"
  },
  {
   "cell_type": "markdown",
   "source": [
    "* 斐波那契数列"
   ],
   "metadata": {
    "collapsed": false
   },
   "id": "7337191f7485cd50"
  },
  {
   "cell_type": "code",
   "execution_count": 34,
   "outputs": [],
   "source": [
    "def fib(length):\n",
    "    parent, grandparent = 1, 0\n",
    "    n = 0\n",
    "    while n < length:\n",
    "        yield grandparent\n",
    "        grandparent, parent = parent, parent + grandparent\n",
    "        n += 1\n",
    "    # 使用return来返回抛出StopIteration时的信息\n",
    "    return 'Max Length Exceed'"
   ],
   "metadata": {
    "collapsed": false,
    "ExecuteTime": {
     "end_time": "2023-10-06T15:05:44.101002700Z",
     "start_time": "2023-10-06T15:05:44.036273500Z"
    }
   },
   "id": "f5ff06fd9ac6b5b4"
  },
  {
   "cell_type": "code",
   "execution_count": 37,
   "outputs": [
    {
     "name": "stdout",
     "output_type": "stream",
     "text": [
      "0\n",
      "1\n",
      "1\n",
      "2\n",
      "3\n",
      "5\n",
      "8\n",
      "13\n",
      "21\n",
      "34\n",
      "Max Length Exceed\n"
     ]
    }
   ],
   "source": [
    "g = fib(10)\n",
    "for i in range(11):\n",
    "    try:\n",
    "        print(next(g))\n",
    "    except StopIteration as e:\n",
    "        print(e)  "
   ],
   "metadata": {
    "collapsed": false,
    "ExecuteTime": {
     "end_time": "2023-10-06T15:06:41.225222300Z",
     "start_time": "2023-10-06T15:06:41.161158800Z"
    }
   },
   "id": "af7338fced7d8dd4"
  },
  {
   "cell_type": "markdown",
   "source": [
    "##### 生成器的使用\n",
    "\n",
    "1. **通过调用 `__next__()` 得到下一个元素**"
   ],
   "metadata": {
    "collapsed": false
   },
   "id": "beac12d8ac912ff2"
  },
  {
   "cell_type": "code",
   "execution_count": 30,
   "outputs": [
    {
     "name": "stdout",
     "output_type": "stream",
     "text": [
      "0\n"
     ]
    }
   ],
   "source": [
    "print(li.__next__())"
   ],
   "metadata": {
    "collapsed": false,
    "ExecuteTime": {
     "end_time": "2023-10-06T15:01:20.047259200Z",
     "start_time": "2023-10-06T15:01:19.912695100Z"
    }
   },
   "id": "219e32280209e0a9"
  },
  {
   "cell_type": "markdown",
   "source": [
    "2. **通过使用 `next()` 得到下一个元素**\n",
    "    ***每调用一次产生一个元素***"
   ],
   "metadata": {
    "collapsed": false
   },
   "id": "70ea800eb7baedc"
  },
  {
   "cell_type": "code",
   "execution_count": 31,
   "outputs": [
    {
     "name": "stdout",
     "output_type": "stream",
     "text": [
      "3\n",
      "6\n"
     ]
    }
   ],
   "source": [
    "print(next(li))\n",
    "print(next(li))"
   ],
   "metadata": {
    "collapsed": false,
    "ExecuteTime": {
     "end_time": "2023-10-06T15:01:20.050303400Z",
     "start_time": "2023-10-06T15:01:19.928724200Z"
    }
   },
   "id": "776d0bd0f4e92dad"
  },
  {
   "cell_type": "markdown",
   "source": [
    "***当生成器中没有可产生的元素时，抛出 `StopIteration`***"
   ],
   "metadata": {
    "collapsed": false
   },
   "id": "64abbfe840000b31"
  },
  {
   "cell_type": "code",
   "execution_count": 32,
   "outputs": [],
   "source": [
    "for el in range(10):\n",
    "    # print(next(li))\n",
    "    pass"
   ],
   "metadata": {
    "collapsed": false,
    "ExecuteTime": {
     "end_time": "2023-10-06T15:01:20.050303400Z",
     "start_time": "2023-10-06T15:01:19.935312600Z"
    }
   },
   "id": "f89809aa214e44a2"
  },
  {
   "cell_type": "markdown",
   "source": [
    "##### 通过错误捕获来循环使用生成器"
   ],
   "metadata": {
    "collapsed": false
   },
   "id": "34c26b98b23df703"
  },
  {
   "cell_type": "code",
   "execution_count": 33,
   "outputs": [
    {
     "name": "stdout",
     "output_type": "stream",
     "text": [
      "9\n",
      "12\n",
      "15\n",
      "18\n",
      "21\n",
      "24\n",
      "27\n",
      "the element is consumed\n"
     ]
    }
   ],
   "source": [
    "while True:\n",
    "    try:\n",
    "        e = next(li)\n",
    "        print(e)\n",
    "    except StopIteration:\n",
    "        print('the element is consumed')\n",
    "        break"
   ],
   "metadata": {
    "collapsed": false,
    "ExecuteTime": {
     "end_time": "2023-10-06T15:01:20.119574100Z",
     "start_time": "2023-10-06T15:01:19.939982400Z"
    }
   },
   "id": "1f95c75cb398de2f"
  },
  {
   "cell_type": "markdown",
   "source": [
    "##### generator.send()"
   ],
   "metadata": {
    "collapsed": false
   },
   "id": "84dae7b25add6f3e"
  },
  {
   "cell_type": "code",
   "execution_count": null,
   "outputs": [],
   "source": [
    "\"\"\"\n",
    "send(value): 像每次的生成器中传值，第一次调用时需要传None\n",
    "\"\"\"\n",
    "\n",
    "def funcGen():\n",
    "    n = 0\n",
    "    while True:\n",
    "        temp = yield n\n",
    "        print('temp: ', temp)\n",
    "        n += 1\n",
    "        \n",
    "g = funcGen()\n",
    "\n",
    "g.send(None)\n",
    "g.send('temp1')\n",
    "g.send('temp2')"
   ],
   "metadata": {
    "collapsed": false
   },
   "id": "c73ca13abb3e6339"
  },
  {
   "cell_type": "markdown",
   "source": [],
   "metadata": {
    "collapsed": false
   },
   "id": "a74412447cee1cd"
  },
  {
   "cell_type": "markdown",
   "source": [
    "##### 生成器的实际应用： 协程 coroutine"
   ],
   "metadata": {
    "collapsed": false
   },
   "id": "ae0364640765f19b"
  },
  {
   "cell_type": "code",
   "execution_count": 1,
   "outputs": [
    {
     "name": "stdout",
     "output_type": "stream",
     "text": [
      "Doing task one 1\n",
      "Doing task two 1\n",
      "Doing task one 2\n",
      "Doing task two 2\n",
      "Doing task one 3\n",
      "Doing task two 3\n",
      "Doing task one 4\n",
      "Doing task two 4\n",
      "Doing task one 5\n",
      "Doing task two 5\n"
     ]
    }
   ],
   "source": [
    "def task_one(n):\n",
    "    for i in range(n):\n",
    "        print(f\"Doing task one {i + 1}\")\n",
    "        yield None\n",
    "\n",
    "def task_two(n):\n",
    "    for i in range(n):\n",
    "        print(f\"Doing task two {i + 1}\")\n",
    "        yield None\n",
    "        \n",
    "g1 = task_one(5)\n",
    "g2 = task_two(5)\n",
    "\n",
    "def run_task():\n",
    "        while True:\n",
    "            try:\n",
    "                next(g1)\n",
    "                next(g2)\n",
    "            except StopIteration:\n",
    "                break  \n",
    "run_task()"
   ],
   "metadata": {
    "collapsed": false,
    "ExecuteTime": {
     "end_time": "2023-10-06T18:18:47.728942500Z",
     "start_time": "2023-10-06T18:18:47.670929700Z"
    }
   },
   "id": "4bbb5bd9679973b1"
  },
  {
   "cell_type": "markdown",
   "source": [],
   "metadata": {
    "collapsed": false
   },
   "id": "2ae64e332383e04d"
  },
  {
   "cell_type": "markdown",
   "source": [],
   "metadata": {
    "collapsed": false
   },
   "id": "7adbd577ac364659"
  }
 ],
 "metadata": {
  "kernelspec": {
   "display_name": "Python 3",
   "language": "python",
   "name": "python3"
  },
  "language_info": {
   "codemirror_mode": {
    "name": "ipython",
    "version": 2
   },
   "file_extension": ".py",
   "mimetype": "text/x-python",
   "name": "python",
   "nbconvert_exporter": "python",
   "pygments_lexer": "ipython2",
   "version": "2.7.6"
  }
 },
 "nbformat": 4,
 "nbformat_minor": 5
}
