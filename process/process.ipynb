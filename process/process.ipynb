{
 "cells": [
  {
   "cell_type": "code",
   "execution_count": 7,
   "id": "initial_id",
   "metadata": {
    "collapsed": true,
    "ExecuteTime": {
     "end_time": "2023-10-13T22:08:05.445935600Z",
     "start_time": "2023-10-13T22:08:05.366694100Z"
    }
   },
   "outputs": [
    {
     "data": {
      "text/plain": "482"
     },
     "execution_count": 7,
     "metadata": {},
     "output_type": "execute_result"
    }
   ],
   "source": [
    "import os\n",
    "os.getppid()\n",
    "os.getpid()"
   ]
  },
  {
   "cell_type": "code",
   "execution_count": 4,
   "outputs": [],
   "source": [
    "from multiprocessing import Process, Pool\n",
    "from time import sleep\n",
    "\n",
    "def task_one():\n",
    "    while True:\n",
    "        sleep(1)\n",
    "        print('this is task one')\n",
    "        \n",
    "def task_two():\n",
    "    while True:\n",
    "        sleep(1)\n",
    "        print('this is task two')\n",
    "\n",
    "p1 = Process(target=task_one)\n",
    "p2 = Process(target=task_two)\n",
    "\n",
    "p1.start()\n",
    "p2.start()"
   ],
   "metadata": {
    "collapsed": false,
    "ExecuteTime": {
     "end_time": "2023-10-13T17:40:25.955521200Z",
     "start_time": "2023-10-13T17:40:25.922921400Z"
    }
   },
   "id": "f7f427d6e3ba4dfd"
  }
 ],
 "metadata": {
  "kernelspec": {
   "display_name": "Python 3",
   "language": "python",
   "name": "python3"
  },
  "language_info": {
   "codemirror_mode": {
    "name": "ipython",
    "version": 2
   },
   "file_extension": ".py",
   "mimetype": "text/x-python",
   "name": "python",
   "nbconvert_exporter": "python",
   "pygments_lexer": "ipython2",
   "version": "2.7.6"
  }
 },
 "nbformat": 4,
 "nbformat_minor": 5
}
