{
 "cells": [
  {
   "cell_type": "markdown",
   "source": [
    "可迭代的对象\n",
    "* list\n",
    "* tuple\n",
    "* dictionary\n",
    "* set\n",
    "* str"
   ],
   "metadata": {
    "collapsed": false
   },
   "id": "8baf5776dd2672a6"
  },
  {
   "cell_type": "code",
   "execution_count": 1,
   "outputs": [
    {
     "name": "stdout",
     "output_type": "stream",
     "text": [
      "Iterable\n"
     ]
    }
   ],
   "source": [
    "from collections.abc import Iterable\n",
    "\n",
    "\n",
    "# 判断一个对象是否可迭代\n",
    "def is_iter(obj):\n",
    "    if isinstance(obj, Iterable):\n",
    "        print('Iterable')\n",
    "    else:\n",
    "        print('Not iterable')\n",
    "\n",
    "li = [1, 3, 4, 5, 7]\n",
    "is_iter(li)"
   ],
   "metadata": {
    "collapsed": false,
    "ExecuteTime": {
     "end_time": "2023-10-06T17:24:09.693267200Z",
     "start_time": "2023-10-06T17:24:09.608207300Z"
    }
   },
   "id": "865a871b974a91d4"
  },
  {
   "cell_type": "code",
   "execution_count": null,
   "outputs": [],
   "source": [
    "# 使用iter()将可迭代对象转换为一个迭代器"
   ],
   "metadata": {
    "collapsed": false
   },
   "id": "efc5b8f550943c97"
  }
 ],
 "metadata": {
  "kernelspec": {
   "display_name": "Python 3",
   "language": "python",
   "name": "python3"
  },
  "language_info": {
   "codemirror_mode": {
    "name": "ipython",
    "version": 2
   },
   "file_extension": ".py",
   "mimetype": "text/x-python",
   "name": "python",
   "nbconvert_exporter": "python",
   "pygments_lexer": "ipython2",
   "version": "2.7.6"
  }
 },
 "nbformat": 4,
 "nbformat_minor": 5
}
