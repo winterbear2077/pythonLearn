{
 "cells": [
  {
   "cell_type": "code",
   "execution_count": 11,
   "outputs": [
    {
     "data": {
      "text/plain": "'123@qq.com'"
     },
     "execution_count": 11,
     "metadata": {},
     "output_type": "execute_result"
    }
   ],
   "source": [
    "import re \n",
    "regex = re.compile('^[0-9a-zA-Z]+.*\\.com$')\n",
    "regex.match('123@qq.com').group()"
   ],
   "metadata": {
    "collapsed": false,
    "ExecuteTime": {
     "end_time": "2023-10-11T18:13:05.027167Z",
     "start_time": "2023-10-11T18:13:04.924349Z"
    }
   },
   "id": "15214c2ef0e75b27"
  },
  {
   "cell_type": "markdown",
   "source": [
    "re.compile(pattern: str)\n",
    "生成一个 正则表达式(pattern) 对象"
   ],
   "metadata": {
    "collapsed": false
   },
   "id": "35b64a1fed5addf5"
  },
  {
   "cell_type": "code",
   "execution_count": 12,
   "outputs": [
    {
     "data": {
      "text/plain": "re.compile(r'1[3-9]\\d{9}', re.UNICODE)"
     },
     "execution_count": 12,
     "metadata": {},
     "output_type": "execute_result"
    }
   ],
   "source": [
    "re.compile('1[3-9]\\d{9}')"
   ],
   "metadata": {
    "collapsed": false,
    "ExecuteTime": {
     "end_time": "2023-10-11T18:13:05.154592800Z",
     "start_time": "2023-10-11T18:13:04.968063Z"
    }
   },
   "id": "638ab4e7bd5042f0"
  },
  {
   "cell_type": "markdown",
   "source": [
    "re.match(pattern: str, string: str)\n",
    "从头开始匹配"
   ],
   "metadata": {
    "collapsed": false
   },
   "id": "cca1f6e00d512707"
  },
  {
   "cell_type": "code",
   "execution_count": 13,
   "outputs": [
    {
     "data": {
      "text/plain": "<re.Match object; span=(0, 11), match='15079620261'>"
     },
     "execution_count": 13,
     "metadata": {},
     "output_type": "execute_result"
    }
   ],
   "source": [
    "re.match('^1[3-9]\\d{9}$', '15079620261')"
   ],
   "metadata": {
    "collapsed": false,
    "ExecuteTime": {
     "end_time": "2023-10-11T18:13:05.154592800Z",
     "start_time": "2023-10-11T18:13:04.974217300Z"
    }
   },
   "id": "235e567c1c3d5736"
  },
  {
   "cell_type": "code",
   "execution_count": 14,
   "outputs": [
    {
     "data": {
      "text/plain": "<re.Match object; span=(14, 25), match='14000000000'>"
     },
     "execution_count": 14,
     "metadata": {},
     "output_type": "execute_result"
    }
   ],
   "source": [
    "re.search('^1[3-9]\\d{9}$', '''\n",
    "128798796969\n",
    "14000000000\n",
    "''', flags=re.M)"
   ],
   "metadata": {
    "collapsed": false,
    "ExecuteTime": {
     "end_time": "2023-10-11T18:13:05.156068500Z",
     "start_time": "2023-10-11T18:13:04.981216700Z"
    }
   },
   "id": "9ae2a1e722771888"
  },
  {
   "cell_type": "code",
   "execution_count": 15,
   "outputs": [
    {
     "data": {
      "text/plain": "<re.Match object; span=(0, 10), match='admin23390'>"
     },
     "execution_count": 15,
     "metadata": {},
     "output_type": "execute_result"
    }
   ],
   "source": [
    "name = 'admin23390'\n",
    "name_validation = '^[a-zA-Z]\\w{4,15}$'\n",
    "re.search(name_validation, name)"
   ],
   "metadata": {
    "collapsed": false,
    "ExecuteTime": {
     "end_time": "2023-10-11T18:13:05.233873Z",
     "start_time": "2023-10-11T18:13:04.986337400Z"
    }
   },
   "id": "dfbfcdf87cd4c640"
  },
  {
   "cell_type": "code",
   "execution_count": 16,
   "outputs": [
    {
     "data": {
      "text/plain": "['module_sys.ipynb',\n 'module_hashlib.ipynb',\n 'module_datetime.ipynb',\n 'module_third_parties.ipynb',\n 'module_random.ipynb',\n 'module_time.ipynb',\n 'math.ipynb',\n 'module_regex.ipynb']"
     },
     "execution_count": 16,
     "metadata": {},
     "output_type": "execute_result"
    }
   ],
   "source": [
    "import os\n",
    "files = ' '.join(os.listdir('/home/evan/python/pythonLearn/modules'))\n",
    "re.findall(r'\\w*\\.ipynb\\b', files)"
   ],
   "metadata": {
    "collapsed": false,
    "ExecuteTime": {
     "end_time": "2023-10-11T18:13:05.237421300Z",
     "start_time": "2023-10-11T18:13:04.994168100Z"
    }
   },
   "id": "7523439d082f3cf0"
  },
  {
   "cell_type": "code",
   "execution_count": 17,
   "outputs": [
    {
     "data": {
      "text/plain": "'<html><h1><span>hello world</span> hello world </h1></html>'"
     },
     "execution_count": 17,
     "metadata": {},
     "output_type": "execute_result"
    }
   ],
   "source": [
    "page = '<html><h1><span>hello world</span> hello world </h1></html>'\n",
    "re.search(r'<(?P<group1>[a-z]+)>.*?<\\/(?P=group1)>', page).group()"
   ],
   "metadata": {
    "collapsed": false,
    "ExecuteTime": {
     "end_time": "2023-10-11T18:13:05.266301400Z",
     "start_time": "2023-10-11T18:13:05.001669100Z"
    }
   },
   "id": "df674513d5027150"
  },
  {
   "cell_type": "markdown",
   "source": [
    "re.sub(pattern: str, repl: function|str, string:str)\n",
    "返回替换后的字符串"
   ],
   "metadata": {
    "collapsed": false
   },
   "id": "231c6c5a17952de"
  },
  {
   "cell_type": "code",
   "execution_count": 18,
   "outputs": [
    {
     "data": {
      "text/plain": "'cur_age: 21, pre_age:41, post_age: 61'"
     },
     "execution_count": 18,
     "metadata": {},
     "output_type": "execute_result"
    }
   ],
   "source": [
    "re.sub(r'\\d+', lambda x: str(int(x.group())+1), 'cur_age: 20, pre_age:40, post_age: 60')"
   ],
   "metadata": {
    "collapsed": false,
    "ExecuteTime": {
     "end_time": "2023-10-11T18:13:05.268302Z",
     "start_time": "2023-10-11T18:13:05.013971500Z"
    }
   },
   "id": "fe07eb948546d6c8"
  },
  {
   "cell_type": "markdown",
   "source": [
    "re.split(pattern: str, string: str)\n",
    "使用匹配的分隔符进行分割"
   ],
   "metadata": {
    "collapsed": false
   },
   "id": "7bd6a09b4ba4c372"
  },
  {
   "cell_type": "code",
   "execution_count": 19,
   "outputs": [
    {
     "data": {
      "text/plain": "['cur_age', ' 20', ' pre_age', '40', ' post_age', ' 60']"
     },
     "execution_count": 19,
     "metadata": {},
     "output_type": "execute_result"
    }
   ],
   "source": [
    "re.split(r'[:,]', 'cur_age: 20, pre_age:40, post_age: 60')"
   ],
   "metadata": {
    "collapsed": false,
    "ExecuteTime": {
     "end_time": "2023-10-11T18:13:05.269302900Z",
     "start_time": "2023-10-11T18:13:05.022102Z"
    }
   },
   "id": "f3a629ca67ce915a"
  },
  {
   "cell_type": "code",
   "execution_count": 32,
   "outputs": [],
   "source": [
    "path = '<img src=\"https://i0.hdslb.com/bfs/sycp/creative_img/202310/151bd4d9ba5460570d59097239a971d7.jpg@976w_550h_1c_!web-home-carousel-cover.webp\" loading=\"lazy\" onload=\"bmgOnLoad(this)\" onerror=\"bmgOnError(this)\" data-onload=\"bmgCmptOnload\" data-onerror=\"bmgCmptOnerror\">'\n",
    "img_url = re.match(r'<img src=\"(.*?)\"', path).group(1)\n",
    "import requests \n",
    "img_content = requests.get(img_url).content\n",
    "\n",
    "with open('demo.webp', 'wb') as image_demo:\n",
    "    image_demo.write(img_content)"
   ],
   "metadata": {
    "collapsed": false,
    "ExecuteTime": {
     "end_time": "2023-10-11T22:57:56.037688800Z",
     "start_time": "2023-10-11T22:57:55.950251900Z"
    }
   },
   "id": "70677974f2da12a2"
  },
  {
   "cell_type": "code",
   "execution_count": null,
   "outputs": [],
   "source": [],
   "metadata": {
    "collapsed": false
   },
   "id": "a464d14073973d0b"
  }
 ],
 "metadata": {
  "kernelspec": {
   "display_name": "Python 3",
   "language": "python",
   "name": "python3"
  },
  "language_info": {
   "codemirror_mode": {
    "name": "ipython",
    "version": 2
   },
   "file_extension": ".py",
   "mimetype": "text/x-python",
   "name": "python",
   "nbconvert_exporter": "python",
   "pygments_lexer": "ipython2",
   "version": "2.7.6"
  }
 },
 "nbformat": 4,
 "nbformat_minor": 5
}
