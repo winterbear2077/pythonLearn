{
 "cells": [
  {
   "cell_type": "code",
   "execution_count": 10,
   "id": "initial_id",
   "metadata": {
    "collapsed": true,
    "ExecuteTime": {
     "end_time": "2023-10-09T17:29:25.860681600Z",
     "start_time": "2023-10-09T17:29:25.782808200Z"
    }
   },
   "outputs": [
    {
     "name": "stdout",
     "output_type": "stream",
     "text": [
      "21 days, 0:00:00\n",
      "2023-09-18 2023-10-09 2023-10-30\n"
     ]
    }
   ],
   "source": [
    "import datetime\n",
    "time_del = datetime.timedelta(weeks=3)\n",
    "print(time_del)\n",
    "\n",
    "now = datetime.datetime.now() \n",
    "future = now + time_del\n",
    "past = now - time_del\n",
    "print(past.date(), now.date(), future.date())"
   ]
  },
  {
   "cell_type": "code",
   "execution_count": 6,
   "outputs": [],
   "source": [],
   "metadata": {
    "collapsed": false,
    "ExecuteTime": {
     "end_time": "2023-10-09T17:26:30.761372500Z",
     "start_time": "2023-10-09T17:26:30.691724300Z"
    }
   },
   "id": "4b5b61befaa9c433"
  }
 ],
 "metadata": {
  "kernelspec": {
   "display_name": "Python 3",
   "language": "python",
   "name": "python3"
  },
  "language_info": {
   "codemirror_mode": {
    "name": "ipython",
    "version": 2
   },
   "file_extension": ".py",
   "mimetype": "text/x-python",
   "name": "python",
   "nbconvert_exporter": "python",
   "pygments_lexer": "ipython2",
   "version": "2.7.6"
  }
 },
 "nbformat": 4,
 "nbformat_minor": 5
}
