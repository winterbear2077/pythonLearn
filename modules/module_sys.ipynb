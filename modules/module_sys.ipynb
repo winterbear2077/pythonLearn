{
 "cells": [
  {
   "cell_type": "code",
   "execution_count": 11,
   "id": "initial_id",
   "metadata": {
    "collapsed": true,
    "ExecuteTime": {
     "end_time": "2023-10-09T13:51:46.394690200Z",
     "start_time": "2023-10-09T13:51:46.373058Z"
    }
   },
   "outputs": [],
   "source": [
    "import sys"
   ]
  },
  {
   "cell_type": "markdown",
   "source": [
    "* **sys.path**\n",
    "\n",
    "    模块搜索路径"
   ],
   "metadata": {
    "collapsed": false
   },
   "id": "2228b36d803a8ca3"
  },
  {
   "cell_type": "code",
   "execution_count": 12,
   "outputs": [
    {
     "name": "stdout",
     "output_type": "stream",
     "text": [
      "['D:\\\\Program Files\\\\JetBrains\\\\PyCharm 2023.2.2\\\\plugins\\\\python\\\\helpers-pro\\\\jupyter_debug', 'D:\\\\Program Files\\\\JetBrains\\\\PyCharm 2023.2.2\\\\plugins\\\\python\\\\helpers\\\\pydev', '/home/evan/python/pythonLearn/modules', '/home/evan/python', '/usr/lib/python310.zip', '/usr/lib/python3.10', '/usr/lib/python3.10/lib-dynload', '', '/home/evan/.local/lib/python3.10/site-packages', '/usr/local/lib/python3.10/dist-packages', '/usr/lib/python3/dist-packages', '/usr/lib/python3.10/dist-packages']\n"
     ]
    }
   ],
   "source": [
    "print(sys.path)"
   ],
   "metadata": {
    "collapsed": false,
    "ExecuteTime": {
     "end_time": "2023-10-09T13:51:46.413712700Z",
     "start_time": "2023-10-09T13:51:46.383442200Z"
    }
   },
   "id": "b056a2087ea82a81"
  },
  {
   "cell_type": "markdown",
   "source": [
    "* **sys.version**\n",
    "\n",
    "    python 版本"
   ],
   "metadata": {
    "collapsed": false
   },
   "id": "f8ce81bf9d1fce3b"
  },
  {
   "cell_type": "code",
   "execution_count": 13,
   "outputs": [
    {
     "name": "stdout",
     "output_type": "stream",
     "text": [
      "3.10.12 (main, Jun 11 2023, 05:26:28) [GCC 11.4.0]\n"
     ]
    }
   ],
   "source": [
    "print(sys.version)"
   ],
   "metadata": {
    "collapsed": false,
    "ExecuteTime": {
     "end_time": "2023-10-09T13:51:46.577509300Z",
     "start_time": "2023-10-09T13:51:46.389500900Z"
    }
   },
   "id": "88177e25e90e77ff"
  },
  {
   "cell_type": "markdown",
   "source": [
    "* **sys.argv**\n",
    "\n",
    ">   传入的参数"
   ],
   "metadata": {
    "collapsed": false
   },
   "id": "25634e3e3a3cd2cf"
  },
  {
   "cell_type": "code",
   "execution_count": 14,
   "outputs": [
    {
     "name": "stdout",
     "output_type": "stream",
     "text": [
      "['/home/evan/.local/lib/python3.10/site-packages/ipykernel_launcher.py', '-f', '/home/evan/.local/share/jupyter/runtime/kernel-85405b21-dcb3-40bb-ba2b-21b7ed6e742e.json']\n"
     ]
    }
   ],
   "source": [
    "print(sys.argv)"
   ],
   "metadata": {
    "collapsed": false,
    "ExecuteTime": {
     "end_time": "2023-10-09T13:51:46.605250400Z",
     "start_time": "2023-10-09T13:51:46.397214600Z"
    }
   },
   "id": "daa55fab851c9d1c"
  }
 ],
 "metadata": {
  "kernelspec": {
   "display_name": "Python 3",
   "language": "python",
   "name": "python3"
  },
  "language_info": {
   "codemirror_mode": {
    "name": "ipython",
    "version": 2
   },
   "file_extension": ".py",
   "mimetype": "text/x-python",
   "name": "python",
   "nbconvert_exporter": "python",
   "pygments_lexer": "ipython2",
   "version": "2.7.6"
  }
 },
 "nbformat": 4,
 "nbformat_minor": 5
}
