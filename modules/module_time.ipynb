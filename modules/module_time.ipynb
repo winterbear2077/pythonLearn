{
 "cells": [
  {
   "cell_type": "code",
   "execution_count": 22,
   "id": "initial_id",
   "metadata": {
    "collapsed": true,
    "ExecuteTime": {
     "end_time": "2023-10-09T16:54:59.036489700Z",
     "start_time": "2023-10-09T16:54:58.903179700Z"
    }
   },
   "outputs": [],
   "source": [
    "import time"
   ]
  },
  {
   "cell_type": "markdown",
   "source": [
    "**time.time()**\n",
    " 获取当前的时间，返回一个浮点数\n",
    " "
   ],
   "metadata": {
    "collapsed": false
   },
   "id": "454144d0a7140ad"
  },
  {
   "cell_type": "code",
   "execution_count": 23,
   "outputs": [
    {
     "data": {
      "text/plain": "1696870498.9201663"
     },
     "execution_count": 23,
     "metadata": {},
     "output_type": "execute_result"
    }
   ],
   "source": [
    "time.time()"
   ],
   "metadata": {
    "collapsed": false,
    "ExecuteTime": {
     "end_time": "2023-10-09T16:54:59.089769100Z",
     "start_time": "2023-10-09T16:54:58.921817800Z"
    }
   },
   "id": "1f15911521af169e"
  },
  {
   "cell_type": "markdown",
   "source": [
    "**time.sleep(sec)**\n",
    "休眠 sec 秒"
   ],
   "metadata": {
    "collapsed": false
   },
   "id": "f7c349d2d95182b5"
  },
  {
   "cell_type": "code",
   "execution_count": 24,
   "outputs": [
    {
     "data": {
      "text/plain": "3.002260208129883"
     },
     "execution_count": 24,
     "metadata": {},
     "output_type": "execute_result"
    }
   ],
   "source": [
    "t1 = time.time()\n",
    "time.sleep(3)\n",
    "t2 = time.time()\n",
    "t2 - t1"
   ],
   "metadata": {
    "collapsed": false,
    "ExecuteTime": {
     "end_time": "2023-10-09T16:55:01.970819800Z",
     "start_time": "2023-10-09T16:54:58.927907400Z"
    }
   },
   "id": "f8d87c95031bdece"
  },
  {
   "cell_type": "markdown",
   "source": [
    "**time.ctime([time: float])**\n",
    "将时间戳转换为字符串"
   ],
   "metadata": {
    "collapsed": false
   },
   "id": "cf8b47ee5a62151a"
  },
  {
   "cell_type": "code",
   "execution_count": 25,
   "outputs": [
    {
     "data": {
      "text/plain": "'Mon Oct  9 13:54:58 2023'"
     },
     "execution_count": 25,
     "metadata": {},
     "output_type": "execute_result"
    }
   ],
   "source": [
    "time.ctime()\n",
    "time.ctime(t1)"
   ],
   "metadata": {
    "collapsed": false,
    "ExecuteTime": {
     "end_time": "2023-10-09T16:55:01.971821600Z",
     "start_time": "2023-10-09T16:55:01.939710800Z"
    }
   },
   "id": "754cc00a7cb82716"
  },
  {
   "cell_type": "markdown",
   "source": [
    "**time.localtime([time: float])**\n",
    "将时间戳格式转换为元组"
   ],
   "metadata": {
    "collapsed": false
   },
   "id": "b4b77341beb4965d"
  },
  {
   "cell_type": "code",
   "execution_count": 26,
   "outputs": [
    {
     "data": {
      "text/plain": "time.struct_time(tm_year=2023, tm_mon=10, tm_mday=9, tm_hour=13, tm_min=54, tm_sec=58, tm_wday=0, tm_yday=282, tm_isdst=1)"
     },
     "execution_count": 26,
     "metadata": {},
     "output_type": "execute_result"
    }
   ],
   "source": [
    "time.localtime()\n",
    "time.localtime(t1)"
   ],
   "metadata": {
    "collapsed": false,
    "ExecuteTime": {
     "end_time": "2023-10-09T16:55:01.971821600Z",
     "start_time": "2023-10-09T16:55:01.947716200Z"
    }
   },
   "id": "7bdad4d472703200"
  },
  {
   "cell_type": "markdown",
   "source": [
    "**time.mktime(time: tuple)**\n",
    "将元组转换为时间戳"
   ],
   "metadata": {
    "collapsed": false
   },
   "id": "f19705689e9a63dc"
  },
  {
   "cell_type": "code",
   "execution_count": 27,
   "outputs": [
    {
     "data": {
      "text/plain": "1696870501.0"
     },
     "execution_count": 27,
     "metadata": {},
     "output_type": "execute_result"
    }
   ],
   "source": [
    "t_tuple = time.localtime(time.time())\n",
    "time.mktime(t_tuple)"
   ],
   "metadata": {
    "collapsed": false,
    "ExecuteTime": {
     "end_time": "2023-10-09T16:55:01.971821600Z",
     "start_time": "2023-10-09T16:55:01.955473700Z"
    }
   },
   "id": "ec74212fd0d14037"
  },
  {
   "cell_type": "markdown",
   "source": [
    "**time.strftime(format: str[, time: tuple])**\n",
    "时间格式化, 将元组转换为指定格式字符串"
   ],
   "metadata": {
    "collapsed": false
   },
   "id": "50582e70000bfde8"
  },
  {
   "cell_type": "code",
   "execution_count": 28,
   "outputs": [
    {
     "data": {
      "text/plain": "'2023-10-09 13:55:01'"
     },
     "execution_count": 28,
     "metadata": {},
     "output_type": "execute_result"
    }
   ],
   "source": [
    "time.strftime('%Y-%m-%d %H:%M:%S')\n",
    "time.strftime('%Y-%m-%d %H:%M:%S', time.localtime())"
   ],
   "metadata": {
    "collapsed": false,
    "ExecuteTime": {
     "end_time": "2023-10-09T16:55:01.972509800Z",
     "start_time": "2023-10-09T16:55:01.959582200Z"
    }
   },
   "id": "4931c803b1d387b8"
  },
  {
   "cell_type": "markdown",
   "source": [
    "**time.strptime(time: str, format: str)**\n",
    "将时间字符串转换为元组"
   ],
   "metadata": {
    "collapsed": false
   },
   "id": "ba1c2cd2c1923b18"
  },
  {
   "cell_type": "code",
   "execution_count": 29,
   "outputs": [
    {
     "data": {
      "text/plain": "time.struct_time(tm_year=2023, tm_mon=9, tm_mday=8, tm_hour=14, tm_min=34, tm_sec=20, tm_wday=4, tm_yday=251, tm_isdst=-1)"
     },
     "execution_count": 29,
     "metadata": {},
     "output_type": "execute_result"
    }
   ],
   "source": [
    "time.strptime('2023-09-08 14:34:20', '%Y-%m-%d %H:%M:%S')"
   ],
   "metadata": {
    "collapsed": false,
    "ExecuteTime": {
     "end_time": "2023-10-09T16:55:02.078861800Z",
     "start_time": "2023-10-09T16:55:01.964584200Z"
    }
   },
   "id": "5a9764e352035d48"
  }
 ],
 "metadata": {
  "kernelspec": {
   "display_name": "Python 3",
   "language": "python",
   "name": "python3"
  },
  "language_info": {
   "codemirror_mode": {
    "name": "ipython",
    "version": 2
   },
   "file_extension": ".py",
   "mimetype": "text/x-python",
   "name": "python",
   "nbconvert_exporter": "python",
   "pygments_lexer": "ipython2",
   "version": "2.7.6"
  }
 },
 "nbformat": 4,
 "nbformat_minor": 5
}
