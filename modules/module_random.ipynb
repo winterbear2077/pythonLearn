{
 "cells": [
  {
   "cell_type": "code",
   "execution_count": 28,
   "id": "initial_id",
   "metadata": {
    "collapsed": true,
    "ExecuteTime": {
     "end_time": "2023-10-09T18:45:40.710808100Z",
     "start_time": "2023-10-09T18:45:40.653066600Z"
    }
   },
   "outputs": [],
   "source": [
    "import random"
   ]
  },
  {
   "cell_type": "markdown",
   "source": [
    "random()\n",
    "0-1 的随机小数"
   ],
   "metadata": {
    "collapsed": false
   },
   "id": "b7fae21a1a5b9a09"
  },
  {
   "cell_type": "code",
   "execution_count": 29,
   "outputs": [
    {
     "data": {
      "text/plain": "0.018579514719945456"
     },
     "execution_count": 29,
     "metadata": {},
     "output_type": "execute_result"
    }
   ],
   "source": [
    "random.random()"
   ],
   "metadata": {
    "collapsed": false,
    "ExecuteTime": {
     "end_time": "2023-10-09T18:45:40.749941600Z",
     "start_time": "2023-10-09T18:45:40.665917700Z"
    }
   },
   "id": "832311f8c293181e"
  },
  {
   "cell_type": "markdown",
   "source": [
    "randint(min, max)\n",
    "产生一个介于 min 和 max 之间的随机整数（包括 min 和 max）"
   ],
   "metadata": {
    "collapsed": false
   },
   "id": "80cc2b8f31096a12"
  },
  {
   "cell_type": "code",
   "execution_count": 30,
   "outputs": [
    {
     "data": {
      "text/plain": "3"
     },
     "execution_count": 30,
     "metadata": {},
     "output_type": "execute_result"
    }
   ],
   "source": [
    "random.randint(1, 3)"
   ],
   "metadata": {
    "collapsed": false,
    "ExecuteTime": {
     "end_time": "2023-10-09T18:45:40.749941600Z",
     "start_time": "2023-10-09T18:45:40.671087100Z"
    }
   },
   "id": "fc13beb9bf1ef46a"
  },
  {
   "cell_type": "markdown",
   "source": [
    "randrange(min, max[, step])\n",
    "产生一个介于 min 和 max 之间的随机整数 (不包括 max)"
   ],
   "metadata": {
    "collapsed": false
   },
   "id": "9353ab220963a7c0"
  },
  {
   "cell_type": "code",
   "execution_count": 31,
   "outputs": [
    {
     "data": {
      "text/plain": "1"
     },
     "execution_count": 31,
     "metadata": {},
     "output_type": "execute_result"
    }
   ],
   "source": [
    "random.randrange(1, 3)   # >> 1, 2"
   ],
   "metadata": {
    "collapsed": false,
    "ExecuteTime": {
     "end_time": "2023-10-09T18:45:40.750953100Z",
     "start_time": "2023-10-09T18:45:40.679495200Z"
    }
   },
   "id": "7089b355c8bb7ead"
  },
  {
   "cell_type": "code",
   "execution_count": 32,
   "outputs": [
    {
     "name": "stdout",
     "output_type": "stream",
     "text": [
      "[7, 7, 3, 5, 5, 7, 9, 5, 3, 7]\n"
     ]
    }
   ],
   "source": [
    "random.randrange(1, 10, 2) # >> 1, 3, 5, 7, 9\n",
    "rand_list = [random.randrange(1, 10, 2) for n in range(10)]\n",
    "print(rand_list)"
   ],
   "metadata": {
    "collapsed": false,
    "ExecuteTime": {
     "end_time": "2023-10-09T18:45:40.836617Z",
     "start_time": "2023-10-09T18:45:40.686469300Z"
    }
   },
   "id": "5aab2350a53aa80e"
  },
  {
   "cell_type": "markdown",
   "source": [
    "random.choice(choices)\n",
    "在choices中随机选择一个"
   ],
   "metadata": {
    "collapsed": false
   },
   "id": "390eecb8ef03e679"
  },
  {
   "cell_type": "code",
   "execution_count": 33,
   "outputs": [
    {
     "data": {
      "text/plain": "'y'"
     },
     "execution_count": 33,
     "metadata": {},
     "output_type": "execute_result"
    }
   ],
   "source": [
    "foods = ['beef', 'pork', 'chicken', 'rose-berry', 'brocoli']\n",
    "name = 'my name'\n",
    "random.choice(name)"
   ],
   "metadata": {
    "collapsed": false,
    "ExecuteTime": {
     "end_time": "2023-10-09T18:45:40.838132Z",
     "start_time": "2023-10-09T18:45:40.690172500Z"
    }
   },
   "id": "1c0dec76c0d0cbab"
  },
  {
   "cell_type": "markdown",
   "source": [
    "random.shuffle()\n",
    "将一个可变数据类型**原地**打乱顺序"
   ],
   "metadata": {
    "collapsed": false
   },
   "id": "86638772bbb205b5"
  },
  {
   "cell_type": "code",
   "execution_count": 34,
   "outputs": [
    {
     "name": "stdout",
     "output_type": "stream",
     "text": [
      "[4, 2, 8, 1, 6, 5, 9, 3, 0, 7]\n"
     ]
    }
   ],
   "source": [
    "original = [n for n in range(10)]\n",
    "random.shuffle(original)\n",
    "print(original)"
   ],
   "metadata": {
    "collapsed": false,
    "ExecuteTime": {
     "end_time": "2023-10-09T18:45:40.839132300Z",
     "start_time": "2023-10-09T18:45:40.699318600Z"
    }
   },
   "id": "9f7a2626aa91d56c"
  },
  {
   "cell_type": "code",
   "execution_count": null,
   "outputs": [],
   "source": [
    "chr(65) # >> A\n",
    "ord('A') # >> 65"
   ],
   "metadata": {
    "collapsed": false
   },
   "id": "58458a226be1547c"
  }
 ],
 "metadata": {
  "kernelspec": {
   "display_name": "Python 3",
   "language": "python",
   "name": "python3"
  },
  "language_info": {
   "codemirror_mode": {
    "name": "ipython",
    "version": 2
   },
   "file_extension": ".py",
   "mimetype": "text/x-python",
   "name": "python",
   "nbconvert_exporter": "python",
   "pygments_lexer": "ipython2",
   "version": "2.7.6"
  }
 },
 "nbformat": 4,
 "nbformat_minor": 5
}
