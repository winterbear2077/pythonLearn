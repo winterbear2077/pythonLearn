{
 "cells": [
  {
   "cell_type": "code",
   "execution_count": 14,
   "id": "initial_id",
   "metadata": {
    "collapsed": true,
    "ExecuteTime": {
     "end_time": "2023-10-09T19:10:12.089643900Z",
     "start_time": "2023-10-09T19:10:12.022373100Z"
    }
   },
   "outputs": [
    {
     "name": "stdout",
     "output_type": "stream",
     "text": [
      "fc5e038d38a57032085441e7fe7010b0\n"
     ]
    }
   ],
   "source": [
    "import hashlib\n",
    "\n",
    "def encode(pwd: str):\n",
    "    return hashlib.md5(pwd.encode('utf-8')).hexdigest()\n",
    "msg = 'helloworld'\n",
    "md = encode(msg)\n",
    "print(md)"
   ]
  },
  {
   "cell_type": "code",
   "execution_count": 16,
   "outputs": [
    {
     "data": {
      "text/plain": "False"
     },
     "execution_count": 16,
     "metadata": {},
     "output_type": "execute_result"
    }
   ],
   "source": [
    "user_dict = {}\n",
    "user_dict.update({'admin': 'fc5e038d38a57032085441e7fe7010b0'})\n",
    "def login(username, pwd):\n",
    "    if username in user_dict:\n",
    "        input_pwd = encode(pwd)\n",
    "        if input_pwd == user_dict[username]:\n",
    "            return True\n",
    "    return False\n",
    "login('admin', 'msg')"
   ],
   "metadata": {
    "collapsed": false,
    "ExecuteTime": {
     "end_time": "2023-10-09T19:11:31.028782200Z",
     "start_time": "2023-10-09T19:11:30.959656800Z"
    }
   },
   "id": "f38c73b85ebc4f80"
  }
 ],
 "metadata": {
  "kernelspec": {
   "display_name": "Python 3",
   "language": "python",
   "name": "python3"
  },
  "language_info": {
   "codemirror_mode": {
    "name": "ipython",
    "version": 2
   },
   "file_extension": ".py",
   "mimetype": "text/x-python",
   "name": "python",
   "nbconvert_exporter": "python",
   "pygments_lexer": "ipython2",
   "version": "2.7.6"
  }
 },
 "nbformat": 4,
 "nbformat_minor": 5
}
