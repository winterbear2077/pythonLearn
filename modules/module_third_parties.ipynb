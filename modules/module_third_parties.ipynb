{
 "cells": [
  {
   "cell_type": "code",
   "execution_count": 2,
   "id": "initial_id",
   "metadata": {
    "collapsed": true,
    "ExecuteTime": {
     "end_time": "2023-10-09T19:29:10.582436900Z",
     "start_time": "2023-10-09T19:29:10.524947300Z"
    }
   },
   "outputs": [
    {
     "name": "stdout",
     "output_type": "stream",
     "text": [
      "JPEG (1024, 576) RGB\n"
     ]
    }
   ],
   "source": [
    "from PIL import Image\n",
    "\n",
    "im = Image.open('/home/evan/python/true')\n",
    "\n",
    "print(im.format, im.size, im.mode)\n"
   ]
  },
  {
   "cell_type": "code",
   "execution_count": 6,
   "outputs": [
    {
     "data": {
      "text/plain": "'<!DOCTYPE html><html><head><title>验证码_哔哩哔哩</title><meta name=\"viewport\" content=\"width=device-width,user-scalable=no,initial-scale=1,maximum-scale=1,minimum-scale=1,viewport-fit=cover\"><meta name=\"spm_prefix\" content=\"333.1291\"><script type=\"text/javascript\" src=\"//www.bilibili.com/gentleman/polyfill.js?features=Promise%2CObject.assign%2CString.prototype.includes%2CNumber.isNaN\"></script>\\n    <script>\\n    window._riskdata_ = {\\n      \\'v_voucher\\': \\'voucher_e84601c1-ec03-4a38-a1fa-b85dbfe83b18\\'\\n    }\\n    </script>\\n    <script type=\"text/javascript\" src=\"//s1.hdslb.com/bfs/seed/log/report/log-reporter.js\"></script><link href=\"//s1.hdslb.com/bfs/static/jinkela/risk-captcha/css/risk-captcha.0.da69749d1b28e8499cd7d913726fa7af74949406.css\" rel=\"stylesheet\"></head><body><div id=\"biliMainHeader\"></div><div id=\"risk-captcha-app\"></div><script src=\"//s1.hdslb.com/bfs/seed/jinkela/risk-captcha-sdk/CaptchaLoader.js\"></script><script type=\"text/javascript\" src=\"//s1.hdslb.com/bfs/static/jinkela/risk-captcha/1.risk-captcha.da69749d1b28e8499cd7d913726fa7af74949406.js\"></script><script type=\"text/javascript\" src=\"//s1.hdslb.com/bfs/static/jinkela/risk-captcha/risk-captcha.da69749d1b28e8499cd7d913726fa7af74949406.js\"></script></body></html>'"
     },
     "execution_count": 6,
     "metadata": {},
     "output_type": "execute_result"
    }
   ],
   "source": [
    "import requests as rq\n",
    "response = rq.get('https://www.bilibili.com')\n",
    "response.text"
   ],
   "metadata": {
    "collapsed": false,
    "ExecuteTime": {
     "end_time": "2023-10-09T19:32:39.896970700Z",
     "start_time": "2023-10-09T19:32:38.129747300Z"
    }
   },
   "id": "31f13dd2b07063"
  },
  {
   "cell_type": "code",
   "execution_count": null,
   "outputs": [],
   "source": [],
   "metadata": {
    "collapsed": false
   },
   "id": "2446497b77b8d29e"
  }
 ],
 "metadata": {
  "kernelspec": {
   "display_name": "Python 3",
   "language": "python",
   "name": "python3"
  },
  "language_info": {
   "codemirror_mode": {
    "name": "ipython",
    "version": 2
   },
   "file_extension": ".py",
   "mimetype": "text/x-python",
   "name": "python",
   "nbconvert_exporter": "python",
   "pygments_lexer": "ipython2",
   "version": "2.7.6"
  }
 },
 "nbformat": 4,
 "nbformat_minor": 5
}
