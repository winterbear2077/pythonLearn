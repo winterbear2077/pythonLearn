{
 "cells": [
  {
   "cell_type": "markdown",
   "source": [
    "线程的数据同步"
   ],
   "metadata": {
    "collapsed": false
   },
   "id": "966258644be92eb0"
  },
  {
   "cell_type": "code",
   "execution_count": 1,
   "outputs": [],
   "source": [
    "from threading import Thread, Lock, RLock\n",
    "from random import randint\n",
    "import time"
   ],
   "metadata": {
    "collapsed": false,
    "ExecuteTime": {
     "end_time": "2023-10-16T19:00:54.165203Z",
     "start_time": "2023-10-16T19:00:54.127413Z"
    }
   },
   "id": "7acdbd019ed90de"
  },
  {
   "cell_type": "code",
   "execution_count": 3,
   "outputs": [
    {
     "name": "stdout",
     "output_type": "stream",
     "text": [
      "[1, 1, 1, 1, 1, 1, 1, 1, 1, 1]\n"
     ]
    }
   ],
   "source": [
    "lock = Lock()\n",
    "\n",
    "list_a = [0] * 10\n",
    "\n",
    "def modify():\n",
    "    lock.acquire()\n",
    "    for i in range(len(list_a)):\n",
    "        list_a[i] = i\n",
    "        time.sleep(0.3)\n",
    "    lock.release()\n",
    "    \n",
    "    \n",
    "def reset():\n",
    "    lock.acquire()\n",
    "    for i in range(len(list_a)):\n",
    "        list_a[i] = 1\n",
    "        time.sleep(0.3)\n",
    "    lock.release()\n",
    "    \n",
    "th1 = Thread(target=modify)\n",
    "th2 = Thread(target=reset)\n",
    "\n",
    "th1.start()\n",
    "th2.start()\n",
    "\n",
    "th1.join()\n",
    "th2.join()\n",
    "\n",
    "print(list_a)"
   ],
   "metadata": {
    "collapsed": false,
    "ExecuteTime": {
     "end_time": "2023-10-16T19:02:12.230122Z",
     "start_time": "2023-10-16T19:02:06.142607300Z"
    }
   },
   "id": "6faaf6b65dad06af"
  },
  {
   "cell_type": "code",
   "execution_count": 4,
   "outputs": [
    {
     "name": "stdout",
     "output_type": "stream",
     "text": [
      "myname\n"
     ]
    }
   ],
   "source": [
    "class MyThread(Thread):\n",
    "    def run(self):\n",
    "        print(self.name)\n",
    "        \n",
    "newTh = MyThread(name='myname')\n",
    "newTh.start()"
   ],
   "metadata": {
    "collapsed": false,
    "ExecuteTime": {
     "end_time": "2023-10-16T19:04:05.365122300Z",
     "start_time": "2023-10-16T19:04:05.234000300Z"
    }
   },
   "id": "d8359d4ecb15145b"
  },
  {
   "cell_type": "code",
   "execution_count": 5,
   "outputs": [
    {
     "name": "stdout",
     "output_type": "stream",
     "text": [
      "produce 60\n",
      "consume 60\n",
      "produce 85\n",
      "consume 85\n",
      "produce 19\n",
      "consume 19\n",
      "produce 12\n",
      "consume 12\n",
      "produce 27\n",
      "consume 27\n",
      "produce 37\n",
      "consume 37\n",
      "produce 94\n",
      "consume 94\n",
      "produce 79\n",
      "consume 79\n",
      "produce 35\n",
      "consume 35\n",
      "produce 35\n",
      "consume 35\n",
      "End\n"
     ]
    }
   ],
   "source": [
    "import queue\n",
    "import random\n",
    "\n",
    "def producer(que):\n",
    "    for i in range(10):\n",
    "        r = random.randint(0, 100)\n",
    "        que.put(r)\n",
    "        print(f'produce {r}')\n",
    "        time.sleep(0.3)\n",
    "    que.put(None)\n",
    "\n",
    "def consumer(que):\n",
    "    while True:\n",
    "        item = que.get()\n",
    "        if item is None:\n",
    "            print('End')\n",
    "            break\n",
    "        print(f'consume {item}')\n",
    "        time.sleep(0.3)\n",
    "        \n",
    "q = queue.Queue(5)\n",
    "\n",
    "pro_thread = Thread(target=producer, args=(q,))\n",
    "con_thread = Thread(target=consumer, args=(q,))\n",
    "\n",
    "pro_thread.start()\n",
    "con_thread.start()\n",
    "\n",
    "pro_thread.join()\n",
    "con_thread.join()"
   ],
   "metadata": {
    "collapsed": false,
    "ExecuteTime": {
     "end_time": "2023-10-16T20:20:12.923536600Z",
     "start_time": "2023-10-16T20:20:09.870715600Z"
    }
   },
   "id": "fa732da746f28521"
  },
  {
   "cell_type": "markdown",
   "source": [
    "协程 coroutine"
   ],
   "metadata": {
    "collapsed": false
   },
   "id": "8afa25866dfcf53a"
  }
 ],
 "metadata": {
  "kernelspec": {
   "display_name": "Python 3",
   "language": "python",
   "name": "python3"
  },
  "language_info": {
   "codemirror_mode": {
    "name": "ipython",
    "version": 2
   },
   "file_extension": ".py",
   "mimetype": "text/x-python",
   "name": "python",
   "nbconvert_exporter": "python",
   "pygments_lexer": "ipython2",
   "version": "2.7.6"
  }
 },
 "nbformat": 4,
 "nbformat_minor": 5
}
