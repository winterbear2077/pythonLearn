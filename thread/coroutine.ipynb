{
 "cells": [
  {
   "cell_type": "markdown",
   "source": [
    "greenlet"
   ],
   "metadata": {
    "collapsed": false
   },
   "id": "dd50254c01979f2"
  },
  {
   "cell_type": "code",
   "execution_count": 3,
   "outputs": [
    {
     "name": "stdout",
     "output_type": "stream",
     "text": [
      "A >>>>> 0\n",
      "B >>>>> 0\n",
      "C >>>>> 0\n",
      "A >>>>> 1\n",
      "B >>>>> 1\n",
      "C >>>>> 1\n",
      "A >>>>> 2\n",
      "B >>>>> 2\n",
      "C >>>>> 2\n"
     ]
    }
   ],
   "source": [
    "from greenlet import greenlet\n",
    "from time import sleep\n",
    "from random import random\n",
    "\n",
    "\n",
    "def taskA():\n",
    "    for i in range(3):\n",
    "        print(f'A >>>>> {i}')\n",
    "        gB.switch()\n",
    "        sleep(0.2)\n",
    "\n",
    "def taskB():\n",
    "    for i in range(3):\n",
    "        print(f'B >>>>> {i}')\n",
    "        gC.switch()\n",
    "        sleep(0.2)\n",
    "\n",
    "\n",
    "def taskC():\n",
    "    for i in range(3):\n",
    "        print(f'C >>>>> {i}')\n",
    "        gA.switch()\n",
    "        sleep(0.2)\n",
    "\n",
    "gA = greenlet(taskA)\n",
    "gB = greenlet(taskB)\n",
    "gC = greenlet(taskC)\n",
    "\n",
    "gA.switch()"
   ],
   "metadata": {
    "collapsed": false,
    "ExecuteTime": {
     "end_time": "2023-10-17T18:38:29.762894300Z",
     "start_time": "2023-10-17T18:38:28.293269300Z"
    }
   },
   "id": "1fc22f2c18513c81"
  },
  {
   "cell_type": "code",
   "execution_count": 1,
   "outputs": [
    {
     "name": "stdout",
     "output_type": "stream",
     "text": [
      "A >>>> 0\n",
      "B >>>> 0\n",
      "A >>>> 1\n",
      "B >>>> 1\n",
      "A >>>> 2\n",
      "B >>>> 2\n"
     ]
    }
   ],
   "source": [
    "def task1():\n",
    "    for i in range(3):\n",
    "        print(f'A >>>> {i}')\n",
    "        sleep(random())\n",
    "        yield \n",
    "\n",
    "def task2():\n",
    "    for i in range(3):\n",
    "        print(f'B >>>> {i}')\n",
    "        sleep(random())\n",
    "        yield\n",
    "        \n",
    "g1 = task1()\n",
    "g2 = task2()\n",
    "\n",
    "while True:\n",
    "    try:\n",
    "        next(g1)\n",
    "        next(g2)\n",
    "    except StopIteration as e:\n",
    "        print(e)\n",
    "        break"
   ],
   "metadata": {
    "collapsed": false,
    "ExecuteTime": {
     "end_time": "2023-10-17T18:26:06.727056800Z",
     "start_time": "2023-10-17T18:26:03.728856800Z"
    }
   },
   "id": "ebf0cf271ec3ca02"
  },
  {
   "cell_type": "markdown",
   "source": [
    "Gevent"
   ],
   "metadata": {
    "collapsed": false
   },
   "id": "50a0de2bba38498"
  },
  {
   "cell_type": "code",
   "execution_count": 11,
   "outputs": [
    {
     "name": "stdout",
     "output_type": "stream",
     "text": [
      "A >>>> 0\n",
      "B >>>> 0\n",
      "C >>>> 0\n",
      "A >>>> 1\n",
      "B >>>> 1\n",
      "C >>>> 1\n",
      "A >>>> 2\n",
      "B >>>> 2\n",
      "C >>>> 2\n"
     ]
    }
   ],
   "source": [
    "import time\n",
    "import gevent\n",
    "from gevent import monkey\n",
    "\n",
    "monkey.patch_all()\n",
    "\n",
    "def a():\n",
    "    for i in range(3):\n",
    "        print(f'A >>>> {i}')\n",
    "        time.sleep(0.1)\n",
    "\n",
    "def b():\n",
    "    for i in range(3):\n",
    "        print(f'B >>>> {i}')\n",
    "        time.sleep(0.1)\n",
    "        \n",
    "def c():\n",
    "    for i in range(3):\n",
    "        print(f'C >>>> {i}')\n",
    "        time.sleep(0.1)\n",
    "        \n",
    "ge1 = gevent.spawn(a)\n",
    "ge2 = gevent.spawn(b)\n",
    "ge3 = gevent.spawn(c)\n",
    "\n",
    "ge1.join()\n",
    "ge2.join()\n",
    "ge3.join()"
   ],
   "metadata": {
    "collapsed": false,
    "ExecuteTime": {
     "end_time": "2023-10-17T18:53:27.024464400Z",
     "start_time": "2023-10-17T18:53:26.677331700Z"
    }
   },
   "id": "2bc18fc99b0eebe5"
  },
  {
   "cell_type": "code",
   "execution_count": 15,
   "outputs": [
    {
     "name": "stdout",
     "output_type": "stream",
     "text": [
      "https://www.google.com length is 17999\n",
      "https://baidu.com length is 2381\n",
      "https://bilibili.com length is 1241\n"
     ]
    }
   ],
   "source": [
    "import requests\n",
    "from gevent import  monkey\n",
    "monkey.patch_all()\n",
    "\n",
    "def download(url):\n",
    "    response = requests.get(url)\n",
    "    print(f'{url} length is {len(response.text)}')\n",
    "\n",
    "urls = ['https://baidu.com', 'https://bilibili.com', 'https://www.google.com']\n",
    "ges = [gevent.spawn(download, url) for url in urls]\n",
    "\n",
    "for ge in ges:\n",
    "    ge.join()"
   ],
   "metadata": {
    "collapsed": false,
    "ExecuteTime": {
     "end_time": "2023-10-17T19:05:17.752355300Z",
     "start_time": "2023-10-17T19:05:15.044117300Z"
    }
   },
   "id": "d7890d5101f5db9c"
  },
  {
   "cell_type": "code",
   "execution_count": null,
   "outputs": [],
   "source": [],
   "metadata": {
    "collapsed": false
   },
   "id": "e0ba58951726ce4e"
  }
 ],
 "metadata": {
  "kernelspec": {
   "display_name": "Python 3",
   "language": "python",
   "name": "python3"
  },
  "language_info": {
   "codemirror_mode": {
    "name": "ipython",
    "version": 2
   },
   "file_extension": ".py",
   "mimetype": "text/x-python",
   "name": "python",
   "nbconvert_exporter": "python",
   "pygments_lexer": "ipython2",
   "version": "2.7.6"
  }
 },
 "nbformat": 4,
 "nbformat_minor": 5
}
