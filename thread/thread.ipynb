{
 "cells": [
  {
   "cell_type": "code",
   "execution_count": 4,
   "id": "initial_id",
   "metadata": {
    "collapsed": true,
    "ExecuteTime": {
     "end_time": "2023-10-16T14:29:14.796534Z",
     "start_time": "2023-10-16T14:29:14.782466800Z"
    }
   },
   "outputs": [],
   "source": [
    "from threading import Thread"
   ]
  },
  {
   "cell_type": "code",
   "execution_count": null,
   "outputs": [],
   "source": [
    "from time import sleep\n",
    "\n",
    "\n",
    "def download():\n",
    "    for i in range(10):\n",
    "        print(f'downloading file No.{i}')\n",
    "        sleep(0.5)\n",
    "        print(f'saving file No.{i}')\n",
    "    \n",
    "    \n",
    "def analysing():\n",
    "    for i in range(10):\n",
    "        print(f'**{i}**')\n",
    "        sleep(0.3)\n",
    "        \n",
    "t = Thread(target=download)\n",
    "t1 = Thread(target=analysing)\n",
    "\n",
    "t.start()\n",
    "t1.start()"
   ],
   "metadata": {
    "collapsed": false
   },
   "id": "dc5bc232249a6eb2"
  },
  {
   "cell_type": "markdown",
   "source": [
    "线程之间可以共享全局变量"
   ],
   "metadata": {
    "collapsed": false
   },
   "id": "2324ccf05e674334"
  },
  {
   "cell_type": "code",
   "execution_count": 9,
   "outputs": [
    {
     "name": "stdout",
     "output_type": "stream",
     "text": [
      "left 600\n"
     ]
    }
   ],
   "source": [
    "ticket = 1000\n",
    "\n",
    "def task():\n",
    "    global ticket\n",
    "    for i in range(100):\n",
    "        ticket -= 1\n",
    "        \n",
    "ti1 = Thread(target=task, name='ti1')\n",
    "ti2 = Thread(target=task, name='ti2')\n",
    "ti3 = Thread(target=task, name='ti3')\n",
    "ti4 = Thread(target=task, name='ti4')\n",
    "\n",
    "ti1.start()\n",
    "ti2.start()\n",
    "ti3.start()\n",
    "ti4.start()\n",
    "\n",
    "print(f'left {ticket}')"
   ],
   "metadata": {
    "collapsed": false,
    "ExecuteTime": {
     "end_time": "2023-10-16T14:54:40.701288600Z",
     "start_time": "2023-10-16T14:54:40.588414400Z"
    }
   },
   "id": "7893708d28ff3fbb"
  },
  {
   "cell_type": "markdown",
   "source": [
    "GIL global interpreter lock"
   ],
   "metadata": {
    "collapsed": false
   },
   "id": "71466c0891579aed"
  },
  {
   "cell_type": "code",
   "execution_count": 18,
   "outputs": [
    {
     "name": "stdout",
     "output_type": "stream",
     "text": [
      "628225\n"
     ]
    }
   ],
   "source": [
    "n = 0\n",
    "\n",
    "def task_add():\n",
    "    global n\n",
    "    for i in range(10000000):\n",
    "        n += 1\n",
    "        \n",
    "def task_minus():\n",
    "    global n\n",
    "    for i in range(10000000):\n",
    "        n -= 1\n",
    "    \n",
    "th1 = Thread(target=task_add)\n",
    "th2 = Thread(target=task_minus)\n",
    "\n",
    "th1.start()\n",
    "th2.start()\n",
    "\n",
    "th1.join()\n",
    "th2.join()\n",
    "\n",
    "print(n)"
   ],
   "metadata": {
    "collapsed": false,
    "ExecuteTime": {
     "end_time": "2023-10-16T17:31:45.171006900Z",
     "start_time": "2023-10-16T17:31:39.075991400Z"
    }
   },
   "id": "6941fc75f7fbce6c"
  },
  {
   "cell_type": "markdown",
   "source": [
    "线程： 耗时操作，爬虫，IO\n",
    "进程： 计算密集型"
   ],
   "metadata": {
    "collapsed": false
   },
   "id": "5a022a2a54bd08b5"
  },
  {
   "cell_type": "code",
   "execution_count": null,
   "outputs": [],
   "source": [],
   "metadata": {
    "collapsed": false
   },
   "id": "c5e5a98a8e523c28"
  }
 ],
 "metadata": {
  "kernelspec": {
   "display_name": "Python 3",
   "language": "python",
   "name": "python3"
  },
  "language_info": {
   "codemirror_mode": {
    "name": "ipython",
    "version": 2
   },
   "file_extension": ".py",
   "mimetype": "text/x-python",
   "name": "python",
   "nbconvert_exporter": "python",
   "pygments_lexer": "ipython2",
   "version": "2.7.6"
  }
 },
 "nbformat": 4,
 "nbformat_minor": 5
}
